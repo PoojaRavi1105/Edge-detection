{
 "cells": [
  {
   "cell_type": "code",
   "execution_count": 1,
   "metadata": {},
   "outputs": [],
   "source": [
    "import cv2\n",
    "import numpy as np"
   ]
  },
  {
   "cell_type": "code",
   "execution_count": 2,
   "metadata": {},
   "outputs": [],
   "source": [
    "#reading the image as gray scale. Image is present in the same folder as this file\n",
    "img = cv2.imread('edge.png', 0)\n",
    "[rows,cols] = img.shape\n",
    "xgrad = [[0] * (cols+2) for _ in range(rows+2)]\n",
    "ygrad = [[0] * (cols+2) for _ in range(rows+2)]\n",
    "xgrad = np.asarray(xgrad)\n",
    "ygrad = np.asarray(ygrad)"
   ]
  },
  {
   "cell_type": "code",
   "execution_count": 3,
   "metadata": {},
   "outputs": [],
   "source": [
    "#padding values to calculate x gradient\n",
    "listofzeros = [0] * (cols+2)\n",
    "image_pad_x = list()\n",
    "image_pad_x.append(listofzeros)\n",
    "for i in img:\n",
    "    i = list(i)\n",
    "    i.insert(0,0)\n",
    "    i.insert(len(i)+1,0)\n",
    "    image_pad_x.append(i)\n",
    "image_pad_x.append(listofzeros)\n",
    "image_pad_x = np.asarray(image_pad_x)"
   ]
  },
  {
   "cell_type": "code",
   "execution_count": 4,
   "metadata": {},
   "outputs": [
    {
     "data": {
      "text/plain": [
       "True"
      ]
     },
     "execution_count": 4,
     "metadata": {},
     "output_type": "execute_result"
    }
   ],
   "source": [
    "#calculating gradient image in X-direction\n",
    "for i in range(1,len(image_pad_x)-2):\n",
    "    for j in range(1,len(image_pad_x[i])-2):\n",
    "        xgrad[i][j] = image_pad_x[i+1][j] - image_pad_x[i-1][j]\n",
    "\n",
    "cv2.imwrite('image_edge_xgrad.png', np.asarray(xgrad))\n",
    "\n",
    "#calculating gradient image in Y-direction\n",
    "for i in range(1,len(image_pad_x)-2):\n",
    "    for j in range(1,len(image_pad_x[1])-2):\n",
    "        ygrad[i][j] = image_pad_x[i][j+1] - image_pad_x[i][j-1]\n",
    "cv2.imwrite('image_edge_ygrad.png', np.asarray(ygrad))"
   ]
  },
  {
   "cell_type": "code",
   "execution_count": 13,
   "metadata": {},
   "outputs": [],
   "source": [
    "#Defining Sobel Operator\n",
    "x_sob = [[1, 0, -1], \n",
    "         [2, 0, -2], \n",
    "         [1, 0, -1]]\n",
    "y_sob = [[1, 2, 1], \n",
    "         [0, 0, 0], \n",
    "         [-1, -2, -1]]\n",
    "#Flipping the kernel for convolution\n",
    "for i in x_sob:\n",
    "    temp = i[0]\n",
    "    i[0] = i[2]\n",
    "    i[2] = temp\n",
    "\n",
    "temp = y_sob[0]\n",
    "y_sob[0] = y_sob[2]\n",
    "y_sob[2] = temp\n",
    "\n",
    "x_sob = np.asarray(x_sob)\n",
    "y_sob = np.asarray(y_sob)\n",
    "#creating numpy arrays to store the result of convolution\n",
    "sobelxImage = [ [0.0] * (cols) for _ in range(rows)]\n",
    "sobelyImage = [ [0.0] * (cols) for _ in range(rows)]\n",
    "sobelxImage = np.asarray(sobelxImage)\n",
    "sobelyImage = np.asarray(sobelyImage)"
   ]
  },
  {
   "cell_type": "code",
   "execution_count": 14,
   "metadata": {},
   "outputs": [
    {
     "name": "stdout",
     "output_type": "stream",
     "text": [
      "Finished convolution\n"
     ]
    }
   ],
   "source": [
    "#Performing the convolution\n",
    "for i in range(1,rows-1):\n",
    "    for j in range(1,cols-1):       \n",
    "        #Calculate gx and gy using Sobel (horizontal and vertical gradients)\n",
    "        gx = (x_sob[0,0] * xgrad[i-1,j-1]) + (x_sob[0,1] * xgrad[i-1,j]) + \\\n",
    "             (x_sob[0,2] * xgrad[i-1,j+1]) + (x_sob[1,0] * xgrad[i,j-1]) + \\\n",
    "             (x_sob[1,1] * xgrad[i,j]) + (x_sob[1,2] * xgrad[i,j+1]) + \\\n",
    "             (x_sob[2,0] * xgrad[i+1,j-1]) + (x_sob[2,1] * xgrad[i+1,j]) + \\\n",
    "             (x_sob[2,2] * xgrad[i+1,j+1])\n",
    "\n",
    "        gy = (y_sob[0,0] * ygrad[i-1,j-1]) + (y_sob[0,1] * ygrad[i-1,j]) + \\\n",
    "             (y_sob[0,2] * ygrad[i-1,j+1]) + (y_sob[1,0] * ygrad[i,j-1]) + \\\n",
    "             (y_sob[1,1] * ygrad[i,j]) + (y_sob[1,2] * ygrad[i,j+1]) + \\\n",
    "             (y_sob[2,0] * ygrad[i+1,j-1]) + (y_sob[2,1] * ygrad[i+1,j]) + \\\n",
    "             (y_sob[2,2] * ygrad[i+1,j+1])\n",
    "        sobelxImage[i-1,j-1] = gx\n",
    "        sobelyImage[i-1,j-1] = gy\n",
    "print(\"Finished convolution\")"
   ]
  },
  {
   "cell_type": "code",
   "execution_count": 15,
   "metadata": {},
   "outputs": [
    {
     "data": {
      "text/plain": [
       "True"
      ]
     },
     "execution_count": 15,
     "metadata": {},
     "output_type": "execute_result"
    }
   ],
   "source": [
    "cv2.imwrite('image_edge_sobelxImage.png', sobelxImage)\n",
    "cv2.imwrite('image_edge_sobelyImage.png', sobelyImage)"
   ]
  },
  {
   "cell_type": "code",
   "execution_count": 16,
   "metadata": {},
   "outputs": [],
   "source": [
    "#Normalising the convoluted image to remove the negative values and to restrict the range of values from 0 to 255\n",
    "maximum_x = sobelxImage[0,0]\n",
    "for i in range(len(sobelxImage)):\n",
    "    for j in range(len(sobelxImage[i])):\n",
    "        if(maximum_x < abs(sobelxImage[i,j])):\n",
    "            maximum_x = abs(sobelxImage[i,j])\n",
    "\n",
    "maximum_y = sobelyImage[0,0]\n",
    "for i in range(len(sobelyImage)):\n",
    "    for j in range(len(sobelyImage[i])):\n",
    "        if(maximum_y < abs(sobelyImage[i,j])):\n",
    "            maximum_y = abs(sobelyImage[i,j])"
   ]
  },
  {
   "cell_type": "code",
   "execution_count": 17,
   "metadata": {},
   "outputs": [],
   "source": [
    "edge_x = [ [0.0] * (cols) for _ in range(rows)]\n",
    "for i in range(len(edge_x)):\n",
    "    for j in range(len(edge_x[i])):        \n",
    "        edge_x[i][j] = (float)(abs(sobelxImage[i,j])*255/maximum_x)\n",
    "edge_x = np.asarray(edge_x)"
   ]
  },
  {
   "cell_type": "code",
   "execution_count": 18,
   "metadata": {},
   "outputs": [],
   "source": [
    "edge_y = [ [0.0] * (cols) for _ in range(rows)]\n",
    "for i in range(len(edge_y)):\n",
    "    for j in range(len(edge_y[i])):        \n",
    "        edge_y[i][j] = abs(sobelyImage[i,j])*255/maximum_y\n",
    "edge_y = np.asarray(edge_y)"
   ]
  },
  {
   "cell_type": "code",
   "execution_count": 19,
   "metadata": {},
   "outputs": [
    {
     "data": {
      "text/plain": [
       "True"
      ]
     },
     "execution_count": 19,
     "metadata": {},
     "output_type": "execute_result"
    }
   ],
   "source": [
    "cv2.imwrite('image_edge_x_norm.png', edge_x)"
   ]
  },
  {
   "cell_type": "code",
   "execution_count": 20,
   "metadata": {},
   "outputs": [
    {
     "data": {
      "text/plain": [
       "True"
      ]
     },
     "execution_count": 20,
     "metadata": {},
     "output_type": "execute_result"
    }
   ],
   "source": [
    "cv2.imwrite('image_edge_y_norm.png', edge_y)"
   ]
  },
  {
   "cell_type": "code",
   "execution_count": null,
   "metadata": {},
   "outputs": [],
   "source": []
  }
 ],
 "metadata": {
  "kernelspec": {
   "display_name": "Python 3",
   "language": "python",
   "name": "python3"
  },
  "language_info": {
   "codemirror_mode": {
    "name": "ipython",
    "version": 3
   },
   "file_extension": ".py",
   "mimetype": "text/x-python",
   "name": "python",
   "nbconvert_exporter": "python",
   "pygments_lexer": "ipython3",
   "version": "3.6.6"
  }
 },
 "nbformat": 4,
 "nbformat_minor": 2
}
